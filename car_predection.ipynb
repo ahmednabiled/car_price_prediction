{
 "cells": [
  {
   "cell_type": "markdown",
   "metadata": {},
   "source": [
    "#### Importing required libraries"
   ]
  },
  {
   "cell_type": "code",
   "execution_count": 337,
   "metadata": {},
   "outputs": [],
   "source": [
    "import numpy as np\n",
    "import pandas as pd\n",
    "from matplotlib import pyplot as plt\n",
    "import seaborn as sns"
   ]
  },
  {
   "cell_type": "code",
   "execution_count": 338,
   "metadata": {},
   "outputs": [],
   "source": [
    "df=pd.read_csv('train.csv')\n",
    "test_data=pd.read_csv('test.csv')"
   ]
  },
  {
   "cell_type": "code",
   "execution_count": 339,
   "metadata": {},
   "outputs": [
    {
     "data": {
      "text/html": [
       "<div>\n",
       "<style scoped>\n",
       "    .dataframe tbody tr th:only-of-type {\n",
       "        vertical-align: middle;\n",
       "    }\n",
       "\n",
       "    .dataframe tbody tr th {\n",
       "        vertical-align: top;\n",
       "    }\n",
       "\n",
       "    .dataframe thead th {\n",
       "        text-align: right;\n",
       "    }\n",
       "</style>\n",
       "<table border=\"1\" class=\"dataframe\">\n",
       "  <thead>\n",
       "    <tr style=\"text-align: right;\">\n",
       "      <th></th>\n",
       "      <th>ID</th>\n",
       "      <th>Brand</th>\n",
       "      <th>VehicleModel</th>\n",
       "      <th>ManufacturingYear</th>\n",
       "      <th>Type</th>\n",
       "      <th>rating</th>\n",
       "      <th>color</th>\n",
       "      <th>Duty</th>\n",
       "      <th>fuel</th>\n",
       "      <th>CylinderCount</th>\n",
       "      <th>type of gear</th>\n",
       "      <th>capacity</th>\n",
       "      <th>Odometer</th>\n",
       "      <th>#airbags</th>\n",
       "      <th>price</th>\n",
       "    </tr>\n",
       "  </thead>\n",
       "  <tbody>\n",
       "    <tr>\n",
       "      <th>0</th>\n",
       "      <td>2624</td>\n",
       "      <td>NaN</td>\n",
       "      <td>I have the fastest model ever.. yes you got it...</td>\n",
       "      <td>2017</td>\n",
       "      <td>WOOW Sedan</td>\n",
       "      <td>0.0</td>\n",
       "      <td>NaN</td>\n",
       "      <td>I had to pay a substantial $1249 levy on my ne...</td>\n",
       "      <td>Gas</td>\n",
       "      <td>4.0</td>\n",
       "      <td>R</td>\n",
       "      <td>2.5</td>\n",
       "      <td>75492 KM</td>\n",
       "      <td>1008</td>\n",
       "      <td>21012</td>\n",
       "    </tr>\n",
       "    <tr>\n",
       "      <th>1</th>\n",
       "      <td>14392</td>\n",
       "      <td>I love TOYOTA</td>\n",
       "      <td>NaN</td>\n",
       "      <td>NaN</td>\n",
       "      <td>Minivan3</td>\n",
       "      <td>5.0</td>\n",
       "      <td>Metallic</td>\n",
       "      <td>-</td>\n",
       "      <td>Gas</td>\n",
       "      <td>4.0 cyl</td>\n",
       "      <td>R</td>\n",
       "      <td>2.4</td>\n",
       "      <td>220000 KM</td>\n",
       "      <td>-96</td>\n",
       "      <td>11917</td>\n",
       "    </tr>\n",
       "    <tr>\n",
       "      <th>2</th>\n",
       "      <td>9822</td>\n",
       "      <td>hyundai</td>\n",
       "      <td>H1</td>\n",
       "      <td>2009</td>\n",
       "      <td>MINIVAN</td>\n",
       "      <td>0.0</td>\n",
       "      <td>Metallic</td>\n",
       "      <td>1185$</td>\n",
       "      <td>Dies</td>\n",
       "      <td>4.0</td>\n",
       "      <td>R</td>\n",
       "      <td>2.5</td>\n",
       "      <td>TOTAL 50653 km</td>\n",
       "      <td>4 count</td>\n",
       "      <td>22433</td>\n",
       "    </tr>\n",
       "    <tr>\n",
       "      <th>3</th>\n",
       "      <td>17123</td>\n",
       "      <td>opel</td>\n",
       "      <td>Corsa</td>\n",
       "      <td>NaN</td>\n",
       "      <td>Hatchback</td>\n",
       "      <td>5.0</td>\n",
       "      <td>Jet Black</td>\n",
       "      <td>-</td>\n",
       "      <td>NaN</td>\n",
       "      <td>4.0</td>\n",
       "      <td>auto</td>\n",
       "      <td>0</td>\n",
       "      <td>230000 KM</td>\n",
       "      <td>0</td>\n",
       "      <td>5645</td>\n",
       "    </tr>\n",
       "    <tr>\n",
       "      <th>4</th>\n",
       "      <td>11133</td>\n",
       "      <td>subaru</td>\n",
       "      <td>I own Outback.</td>\n",
       "      <td>2007</td>\n",
       "      <td>Hatchback</td>\n",
       "      <td>4.0</td>\n",
       "      <td>Sapphire Blue</td>\n",
       "      <td>-</td>\n",
       "      <td>Gas</td>\n",
       "      <td>4.0</td>\n",
       "      <td>NaN</td>\n",
       "      <td>2.5</td>\n",
       "      <td>131000 KM</td>\n",
       "      <td>4</td>\n",
       "      <td>10976</td>\n",
       "    </tr>\n",
       "    <tr>\n",
       "      <th>5</th>\n",
       "      <td>12610</td>\n",
       "      <td>VOLKSWAGEN</td>\n",
       "      <td>my model which is CC is the best</td>\n",
       "      <td>3010</td>\n",
       "      <td>sedan</td>\n",
       "      <td>NaN</td>\n",
       "      <td>Metallic</td>\n",
       "      <td>836$</td>\n",
       "      <td>Gas</td>\n",
       "      <td>4.0 cyl</td>\n",
       "      <td>NaN</td>\n",
       "      <td>2</td>\n",
       "      <td>66000 KM</td>\n",
       "      <td>12</td>\n",
       "      <td>12900</td>\n",
       "    </tr>\n",
       "    <tr>\n",
       "      <th>6</th>\n",
       "      <td>605</td>\n",
       "      <td>NaN</td>\n",
       "      <td>I have the fastest model ever.. yes you got it...</td>\n",
       "      <td>1999</td>\n",
       "      <td>SEDAN</td>\n",
       "      <td>2.0</td>\n",
       "      <td>Sapphire Blue</td>\n",
       "      <td>-</td>\n",
       "      <td>Gas</td>\n",
       "      <td>4.0 cyl</td>\n",
       "      <td>manual</td>\n",
       "      <td>2</td>\n",
       "      <td>318406 km</td>\n",
       "      <td>6 count</td>\n",
       "      <td>6586</td>\n",
       "    </tr>\n",
       "    <tr>\n",
       "      <th>7</th>\n",
       "      <td>15308</td>\n",
       "      <td>FORD</td>\n",
       "      <td>I have the fastest model ever.. yes you got it...</td>\n",
       "      <td>2012</td>\n",
       "      <td>Pickup3</td>\n",
       "      <td>6.0</td>\n",
       "      <td>NaN</td>\n",
       "      <td>-8526</td>\n",
       "      <td>Gas</td>\n",
       "      <td>8.0</td>\n",
       "      <td>auto</td>\n",
       "      <td>5</td>\n",
       "      <td>150000  kilo</td>\n",
       "      <td>8</td>\n",
       "      <td>42000</td>\n",
       "    </tr>\n",
       "    <tr>\n",
       "      <th>8</th>\n",
       "      <td>10146</td>\n",
       "      <td>Bmw</td>\n",
       "      <td>X6</td>\n",
       "      <td>2011</td>\n",
       "      <td>jeep</td>\n",
       "      <td>3.0</td>\n",
       "      <td>NaN</td>\n",
       "      <td>-</td>\n",
       "      <td>Gas</td>\n",
       "      <td>8.0 cyl</td>\n",
       "      <td>auto</td>\n",
       "      <td>0</td>\n",
       "      <td>1000 KM</td>\n",
       "      <td>8</td>\n",
       "      <td>28600</td>\n",
       "    </tr>\n",
       "    <tr>\n",
       "      <th>9</th>\n",
       "      <td>1286</td>\n",
       "      <td>hyundai</td>\n",
       "      <td>H1</td>\n",
       "      <td>2014</td>\n",
       "      <td>Minivan</td>\n",
       "      <td>2.0</td>\n",
       "      <td>Metallic</td>\n",
       "      <td>10777</td>\n",
       "      <td>Dies</td>\n",
       "      <td>4.0</td>\n",
       "      <td>R</td>\n",
       "      <td>2.5</td>\n",
       "      <td>146216 KM</td>\n",
       "      <td>4</td>\n",
       "      <td>30750</td>\n",
       "    </tr>\n",
       "    <tr>\n",
       "      <th>10</th>\n",
       "      <td>2339</td>\n",
       "      <td>jaguar</td>\n",
       "      <td>XJ</td>\n",
       "      <td>2015</td>\n",
       "      <td>sedan</td>\n",
       "      <td>3.0</td>\n",
       "      <td>Pearl White</td>\n",
       "      <td>1104$</td>\n",
       "      <td>Gas</td>\n",
       "      <td>6.0 cyl</td>\n",
       "      <td>auto</td>\n",
       "      <td>3</td>\n",
       "      <td>54429 km</td>\n",
       "      <td>12,</td>\n",
       "      <td>1646</td>\n",
       "    </tr>\n",
       "    <tr>\n",
       "      <th>11</th>\n",
       "      <td>926</td>\n",
       "      <td>I love HONDA</td>\n",
       "      <td>FIT</td>\n",
       "      <td>2006</td>\n",
       "      <td>Hatchback</td>\n",
       "      <td>2.0</td>\n",
       "      <td>Metallic</td>\n",
       "      <td>-</td>\n",
       "      <td>Gas</td>\n",
       "      <td>4.0 cyl</td>\n",
       "      <td>auto</td>\n",
       "      <td>1.3</td>\n",
       "      <td>0  kilo</td>\n",
       "      <td>4</td>\n",
       "      <td>30</td>\n",
       "    </tr>\n",
       "    <tr>\n",
       "      <th>12</th>\n",
       "      <td>9960</td>\n",
       "      <td>mercedes-benz</td>\n",
       "      <td>A 200</td>\n",
       "      <td>2105</td>\n",
       "      <td>HATCHBACK</td>\n",
       "      <td>2.0</td>\n",
       "      <td>Metallic</td>\n",
       "      <td>-</td>\n",
       "      <td>Gas</td>\n",
       "      <td>4.0</td>\n",
       "      <td>others</td>\n",
       "      <td>2</td>\n",
       "      <td>123456 km</td>\n",
       "      <td>6~</td>\n",
       "      <td>10036</td>\n",
       "    </tr>\n",
       "    <tr>\n",
       "      <th>13</th>\n",
       "      <td>14156</td>\n",
       "      <td>I love FORD</td>\n",
       "      <td>my model which is C-MAX SEL is the best</td>\n",
       "      <td>2013,</td>\n",
       "      <td>SEDAN</td>\n",
       "      <td>8.0</td>\n",
       "      <td>Jet Black</td>\n",
       "      <td>I had to pay a substantial $640 levy on my new...</td>\n",
       "      <td>Electric Hybrid</td>\n",
       "      <td>4.0</td>\n",
       "      <td>NaN</td>\n",
       "      <td>0</td>\n",
       "      <td>174400  kilo</td>\n",
       "      <td>106</td>\n",
       "      <td>18189</td>\n",
       "    </tr>\n",
       "    <tr>\n",
       "      <th>14</th>\n",
       "      <td>9478</td>\n",
       "      <td>honda</td>\n",
       "      <td>FIT</td>\n",
       "      <td>2010</td>\n",
       "      <td>HATCHBACK</td>\n",
       "      <td>3.0</td>\n",
       "      <td>NaN</td>\n",
       "      <td>-</td>\n",
       "      <td>Gas</td>\n",
       "      <td>4.0</td>\n",
       "      <td>auto</td>\n",
       "      <td>1.5</td>\n",
       "      <td>206400 KM</td>\n",
       "      <td>6</td>\n",
       "      <td>11917</td>\n",
       "    </tr>\n",
       "    <tr>\n",
       "      <th>15</th>\n",
       "      <td>15040</td>\n",
       "      <td>HYUNDAI</td>\n",
       "      <td>ELANTRA</td>\n",
       "      <td>2017{</td>\n",
       "      <td>sedan</td>\n",
       "      <td>1.0</td>\n",
       "      <td>Jet Black</td>\n",
       "      <td>`</td>\n",
       "      <td>Gas</td>\n",
       "      <td>4.0</td>\n",
       "      <td>NaN</td>\n",
       "      <td>1.6</td>\n",
       "      <td>25635  kilo</td>\n",
       "      <td>12</td>\n",
       "      <td>1019</td>\n",
       "    </tr>\n",
       "    <tr>\n",
       "      <th>16</th>\n",
       "      <td>3440</td>\n",
       "      <td>NISSAN</td>\n",
       "      <td>Presage RIDER</td>\n",
       "      <td>1-1-2003</td>\n",
       "      <td>minivan</td>\n",
       "      <td>3.0</td>\n",
       "      <td>NaN</td>\n",
       "      <td>-</td>\n",
       "      <td>NaN</td>\n",
       "      <td>4.0</td>\n",
       "      <td>auto</td>\n",
       "      <td>2.5</td>\n",
       "      <td>190000 km</td>\n",
       "      <td>2</td>\n",
       "      <td>7527</td>\n",
       "    </tr>\n",
       "    <tr>\n",
       "      <th>17</th>\n",
       "      <td>15347</td>\n",
       "      <td>toyota</td>\n",
       "      <td>Prius</td>\n",
       "      <td>NaN</td>\n",
       "      <td>sedan</td>\n",
       "      <td>NaN</td>\n",
       "      <td>Jet Black</td>\n",
       "      <td>-</td>\n",
       "      <td>Electric Hybrid</td>\n",
       "      <td>4.0</td>\n",
       "      <td>R</td>\n",
       "      <td>1.8</td>\n",
       "      <td>104000 km</td>\n",
       "      <td>8 bags</td>\n",
       "      <td>18817</td>\n",
       "    </tr>\n",
       "    <tr>\n",
       "      <th>18</th>\n",
       "      <td>10568</td>\n",
       "      <td>volkswagen</td>\n",
       "      <td>I have the fastest model ever.. yes you got it...</td>\n",
       "      <td>2016</td>\n",
       "      <td>hatchback</td>\n",
       "      <td>3.0</td>\n",
       "      <td>Jet Black</td>\n",
       "      <td>10891</td>\n",
       "      <td>Gas</td>\n",
       "      <td>4.0</td>\n",
       "      <td>auto</td>\n",
       "      <td>2</td>\n",
       "      <td>113600  kilo</td>\n",
       "      <td>8</td>\n",
       "      <td>7527</td>\n",
       "    </tr>\n",
       "    <tr>\n",
       "      <th>19</th>\n",
       "      <td>1084</td>\n",
       "      <td>lexus</td>\n",
       "      <td>NaN</td>\n",
       "      <td>2015</td>\n",
       "      <td>JEEP</td>\n",
       "      <td>2.0</td>\n",
       "      <td>NaN</td>\n",
       "      <td>603 pound</td>\n",
       "      <td>Electric Hybrid</td>\n",
       "      <td>6.0</td>\n",
       "      <td>others</td>\n",
       "      <td>3.5</td>\n",
       "      <td>143619  kilo</td>\n",
       "      <td>12&lt;</td>\n",
       "      <td>13956</td>\n",
       "    </tr>\n",
       "  </tbody>\n",
       "</table>\n",
       "</div>"
      ],
      "text/plain": [
       "       ID          Brand                                       VehicleModel  \\\n",
       "0    2624            NaN  I have the fastest model ever.. yes you got it...   \n",
       "1   14392  I love TOYOTA                                                NaN   \n",
       "2    9822        hyundai                                                 H1   \n",
       "3   17123           opel                                              Corsa   \n",
       "4   11133         subaru                                     I own Outback.   \n",
       "5   12610     VOLKSWAGEN                   my model which is CC is the best   \n",
       "6     605            NaN  I have the fastest model ever.. yes you got it...   \n",
       "7   15308           FORD  I have the fastest model ever.. yes you got it...   \n",
       "8   10146            Bmw                                                 X6   \n",
       "9    1286        hyundai                                                 H1   \n",
       "10   2339         jaguar                                                 XJ   \n",
       "11    926   I love HONDA                                                FIT   \n",
       "12   9960  mercedes-benz                                              A 200   \n",
       "13  14156    I love FORD            my model which is C-MAX SEL is the best   \n",
       "14   9478          honda                                                FIT   \n",
       "15  15040        HYUNDAI                                            ELANTRA   \n",
       "16   3440         NISSAN                                      Presage RIDER   \n",
       "17  15347         toyota                                              Prius   \n",
       "18  10568     volkswagen  I have the fastest model ever.. yes you got it...   \n",
       "19   1084          lexus                                                NaN   \n",
       "\n",
       "   ManufacturingYear        Type  rating          color  \\\n",
       "0               2017  WOOW Sedan     0.0            NaN   \n",
       "1                NaN    Minivan3     5.0       Metallic   \n",
       "2               2009     MINIVAN     0.0       Metallic   \n",
       "3                NaN   Hatchback     5.0      Jet Black   \n",
       "4               2007   Hatchback     4.0  Sapphire Blue   \n",
       "5               3010       sedan     NaN       Metallic   \n",
       "6               1999       SEDAN     2.0  Sapphire Blue   \n",
       "7               2012     Pickup3     6.0            NaN   \n",
       "8               2011        jeep     3.0            NaN   \n",
       "9               2014     Minivan     2.0       Metallic   \n",
       "10              2015       sedan     3.0    Pearl White   \n",
       "11              2006   Hatchback     2.0       Metallic   \n",
       "12              2105   HATCHBACK     2.0       Metallic   \n",
       "13             2013,       SEDAN     8.0      Jet Black   \n",
       "14              2010   HATCHBACK     3.0            NaN   \n",
       "15             2017{       sedan     1.0      Jet Black   \n",
       "16          1-1-2003     minivan     3.0            NaN   \n",
       "17               NaN       sedan     NaN      Jet Black   \n",
       "18              2016   hatchback     3.0      Jet Black   \n",
       "19              2015        JEEP     2.0            NaN   \n",
       "\n",
       "                                                 Duty             fuel  \\\n",
       "0   I had to pay a substantial $1249 levy on my ne...              Gas   \n",
       "1                                                   -              Gas   \n",
       "2                                               1185$             Dies   \n",
       "3                                                   -              NaN   \n",
       "4                                                   -              Gas   \n",
       "5                                                836$              Gas   \n",
       "6                                                   -              Gas   \n",
       "7                                               -8526              Gas   \n",
       "8                                                   -              Gas   \n",
       "9                                               10777             Dies   \n",
       "10                                              1104$              Gas   \n",
       "11                                                  -              Gas   \n",
       "12                                                  -              Gas   \n",
       "13  I had to pay a substantial $640 levy on my new...  Electric Hybrid   \n",
       "14                                                  -              Gas   \n",
       "15                                                  `              Gas   \n",
       "16                                                  -              NaN   \n",
       "17                                                  -  Electric Hybrid   \n",
       "18                                              10891              Gas   \n",
       "19                                          603 pound  Electric Hybrid   \n",
       "\n",
       "   CylinderCount type of gear capacity        Odometer #airbags  price  \n",
       "0            4.0            R      2.5        75492 KM     1008  21012  \n",
       "1        4.0 cyl            R      2.4       220000 KM      -96  11917  \n",
       "2            4.0            R      2.5  TOTAL 50653 km  4 count  22433  \n",
       "3            4.0         auto        0       230000 KM      0     5645  \n",
       "4            4.0          NaN      2.5       131000 KM      4    10976  \n",
       "5        4.0 cyl          NaN        2        66000 KM       12  12900  \n",
       "6        4.0 cyl       manual        2       318406 km  6 count   6586  \n",
       "7            8.0         auto        5    150000  kilo        8  42000  \n",
       "8        8.0 cyl         auto        0         1000 KM        8  28600  \n",
       "9            4.0            R      2.5       146216 KM        4  30750  \n",
       "10       6.0 cyl         auto        3        54429 km      12,   1646  \n",
       "11       4.0 cyl         auto      1.3         0  kilo      4       30  \n",
       "12           4.0       others        2       123456 km       6~  10036  \n",
       "13           4.0          NaN        0    174400  kilo      106  18189  \n",
       "14           4.0         auto      1.5       206400 KM        6  11917  \n",
       "15           4.0          NaN      1.6     25635  kilo       12   1019  \n",
       "16           4.0         auto      2.5       190000 km        2   7527  \n",
       "17           4.0            R      1.8       104000 km   8 bags  18817  \n",
       "18           4.0         auto        2    113600  kilo        8   7527  \n",
       "19           6.0       others      3.5    143619  kilo      12<  13956  "
      ]
     },
     "execution_count": 339,
     "metadata": {},
     "output_type": "execute_result"
    }
   ],
   "source": [
    "df.head(20)"
   ]
  },
  {
   "cell_type": "code",
   "execution_count": 340,
   "metadata": {},
   "outputs": [
    {
     "name": "stdout",
     "output_type": "stream",
     "text": [
      "<class 'pandas.core.frame.DataFrame'>\n",
      "RangeIndex: 7000 entries, 0 to 6999\n",
      "Data columns (total 15 columns):\n",
      " #   Column             Non-Null Count  Dtype  \n",
      "---  ------             --------------  -----  \n",
      " 0   ID                 7000 non-null   int64  \n",
      " 1   Brand              6294 non-null   object \n",
      " 2   VehicleModel       6303 non-null   object \n",
      " 3   ManufacturingYear  6305 non-null   object \n",
      " 4   Type               6315 non-null   object \n",
      " 5   rating             6310 non-null   float64\n",
      " 6   color              4876 non-null   object \n",
      " 7   Duty               7000 non-null   object \n",
      " 8   fuel               6304 non-null   object \n",
      " 9   CylinderCount      7000 non-null   object \n",
      " 10  type of gear       6308 non-null   object \n",
      " 11  capacity           7000 non-null   object \n",
      " 12  Odometer           7000 non-null   object \n",
      " 13  #airbags           7000 non-null   object \n",
      " 14  price              7000 non-null   int64  \n",
      "dtypes: float64(1), int64(2), object(12)\n",
      "memory usage: 820.4+ KB\n"
     ]
    }
   ],
   "source": [
    "df.info()"
   ]
  },
  {
   "cell_type": "code",
   "execution_count": 341,
   "metadata": {},
   "outputs": [
    {
     "data": {
      "text/html": [
       "<div>\n",
       "<style scoped>\n",
       "    .dataframe tbody tr th:only-of-type {\n",
       "        vertical-align: middle;\n",
       "    }\n",
       "\n",
       "    .dataframe tbody tr th {\n",
       "        vertical-align: top;\n",
       "    }\n",
       "\n",
       "    .dataframe thead th {\n",
       "        text-align: right;\n",
       "    }\n",
       "</style>\n",
       "<table border=\"1\" class=\"dataframe\">\n",
       "  <thead>\n",
       "    <tr style=\"text-align: right;\">\n",
       "      <th></th>\n",
       "      <th>ID</th>\n",
       "      <th>rating</th>\n",
       "      <th>price</th>\n",
       "    </tr>\n",
       "  </thead>\n",
       "  <tbody>\n",
       "    <tr>\n",
       "      <th>count</th>\n",
       "      <td>7000.000000</td>\n",
       "      <td>6310.000000</td>\n",
       "      <td>7000.000000</td>\n",
       "    </tr>\n",
       "    <tr>\n",
       "      <th>mean</th>\n",
       "      <td>9022.128714</td>\n",
       "      <td>2.559588</td>\n",
       "      <td>14406.866429</td>\n",
       "    </tr>\n",
       "    <tr>\n",
       "      <th>std</th>\n",
       "      <td>5202.316292</td>\n",
       "      <td>1.905482</td>\n",
       "      <td>11747.617978</td>\n",
       "    </tr>\n",
       "    <tr>\n",
       "      <th>min</th>\n",
       "      <td>1.000000</td>\n",
       "      <td>-4.000000</td>\n",
       "      <td>3.000000</td>\n",
       "    </tr>\n",
       "    <tr>\n",
       "      <th>25%</th>\n",
       "      <td>4546.750000</td>\n",
       "      <td>1.000000</td>\n",
       "      <td>5018.000000</td>\n",
       "    </tr>\n",
       "    <tr>\n",
       "      <th>50%</th>\n",
       "      <td>9044.500000</td>\n",
       "      <td>2.000000</td>\n",
       "      <td>12544.000000</td>\n",
       "    </tr>\n",
       "    <tr>\n",
       "      <th>75%</th>\n",
       "      <td>13523.250000</td>\n",
       "      <td>4.000000</td>\n",
       "      <td>20071.000000</td>\n",
       "    </tr>\n",
       "    <tr>\n",
       "      <th>max</th>\n",
       "      <td>18013.000000</td>\n",
       "      <td>10.000000</td>\n",
       "      <td>49889.000000</td>\n",
       "    </tr>\n",
       "  </tbody>\n",
       "</table>\n",
       "</div>"
      ],
      "text/plain": [
       "                 ID       rating         price\n",
       "count   7000.000000  6310.000000   7000.000000\n",
       "mean    9022.128714     2.559588  14406.866429\n",
       "std     5202.316292     1.905482  11747.617978\n",
       "min        1.000000    -4.000000      3.000000\n",
       "25%     4546.750000     1.000000   5018.000000\n",
       "50%     9044.500000     2.000000  12544.000000\n",
       "75%    13523.250000     4.000000  20071.000000\n",
       "max    18013.000000    10.000000  49889.000000"
      ]
     },
     "execution_count": 341,
     "metadata": {},
     "output_type": "execute_result"
    }
   ],
   "source": [
    "df.describe()"
   ]
  },
  {
   "cell_type": "code",
   "execution_count": 342,
   "metadata": {},
   "outputs": [
    {
     "data": {
      "text/html": [
       "<div>\n",
       "<style scoped>\n",
       "    .dataframe tbody tr th:only-of-type {\n",
       "        vertical-align: middle;\n",
       "    }\n",
       "\n",
       "    .dataframe tbody tr th {\n",
       "        vertical-align: top;\n",
       "    }\n",
       "\n",
       "    .dataframe thead th {\n",
       "        text-align: right;\n",
       "    }\n",
       "</style>\n",
       "<table border=\"1\" class=\"dataframe\">\n",
       "  <thead>\n",
       "    <tr style=\"text-align: right;\">\n",
       "      <th></th>\n",
       "      <th>Brand</th>\n",
       "      <th>VehicleModel</th>\n",
       "      <th>ManufacturingYear</th>\n",
       "      <th>Type</th>\n",
       "      <th>color</th>\n",
       "      <th>Duty</th>\n",
       "      <th>fuel</th>\n",
       "      <th>CylinderCount</th>\n",
       "      <th>type of gear</th>\n",
       "      <th>capacity</th>\n",
       "      <th>Odometer</th>\n",
       "      <th>#airbags</th>\n",
       "    </tr>\n",
       "  </thead>\n",
       "  <tbody>\n",
       "    <tr>\n",
       "      <th>count</th>\n",
       "      <td>6294</td>\n",
       "      <td>6303</td>\n",
       "      <td>6305</td>\n",
       "      <td>6315</td>\n",
       "      <td>4876</td>\n",
       "      <td>7000</td>\n",
       "      <td>6304</td>\n",
       "      <td>7000</td>\n",
       "      <td>6308</td>\n",
       "      <td>7000</td>\n",
       "      <td>7000</td>\n",
       "      <td>7000</td>\n",
       "    </tr>\n",
       "    <tr>\n",
       "      <th>unique</th>\n",
       "      <td>185</td>\n",
       "      <td>1480</td>\n",
       "      <td>555</td>\n",
       "      <td>81</td>\n",
       "      <td>16</td>\n",
       "      <td>1173</td>\n",
       "      <td>7</td>\n",
       "      <td>28</td>\n",
       "      <td>7</td>\n",
       "      <td>87</td>\n",
       "      <td>4964</td>\n",
       "      <td>321</td>\n",
       "    </tr>\n",
       "    <tr>\n",
       "      <th>top</th>\n",
       "      <td>toyota</td>\n",
       "      <td>Prius</td>\n",
       "      <td>2012</td>\n",
       "      <td>sedan</td>\n",
       "      <td>Jet Black</td>\n",
       "      <td>-</td>\n",
       "      <td>Gas</td>\n",
       "      <td>4.0</td>\n",
       "      <td>auto</td>\n",
       "      <td>2</td>\n",
       "      <td>0 km</td>\n",
       "      <td>12</td>\n",
       "    </tr>\n",
       "    <tr>\n",
       "      <th>freq</th>\n",
       "      <td>497</td>\n",
       "      <td>113</td>\n",
       "      <td>429</td>\n",
       "      <td>1160</td>\n",
       "      <td>1239</td>\n",
       "      <td>2108</td>\n",
       "      <td>3272</td>\n",
       "      <td>2638</td>\n",
       "      <td>2870</td>\n",
       "      <td>1261</td>\n",
       "      <td>79</td>\n",
       "      <td>830</td>\n",
       "    </tr>\n",
       "  </tbody>\n",
       "</table>\n",
       "</div>"
      ],
      "text/plain": [
       "         Brand VehicleModel ManufacturingYear   Type      color  Duty  fuel  \\\n",
       "count     6294         6303              6305   6315       4876  7000  6304   \n",
       "unique     185         1480               555     81         16  1173     7   \n",
       "top     toyota        Prius              2012  sedan  Jet Black     -   Gas   \n",
       "freq       497          113               429   1160       1239  2108  3272   \n",
       "\n",
       "       CylinderCount type of gear capacity Odometer #airbags  \n",
       "count           7000         6308     7000     7000     7000  \n",
       "unique            28            7       87     4964      321  \n",
       "top              4.0         auto        2     0 km       12  \n",
       "freq            2638         2870     1261       79      830  "
      ]
     },
     "execution_count": 342,
     "metadata": {},
     "output_type": "execute_result"
    }
   ],
   "source": [
    "df.describe(include=['object'])"
   ]
  },
  {
   "cell_type": "code",
   "execution_count": 343,
   "metadata": {},
   "outputs": [
    {
     "data": {
      "text/plain": [
       "ID                      0\n",
       "Brand                 706\n",
       "VehicleModel          697\n",
       "ManufacturingYear     695\n",
       "Type                  685\n",
       "rating                690\n",
       "color                2124\n",
       "Duty                    0\n",
       "fuel                  696\n",
       "CylinderCount           0\n",
       "type of gear          692\n",
       "capacity                0\n",
       "Odometer                0\n",
       "#airbags                0\n",
       "price                   0\n",
       "dtype: int64"
      ]
     },
     "execution_count": 343,
     "metadata": {},
     "output_type": "execute_result"
    }
   ],
   "source": [
    "df.isna().sum()"
   ]
  },
  {
   "cell_type": "code",
   "execution_count": 344,
   "metadata": {},
   "outputs": [
    {
     "data": {
      "text/plain": [
       "array([False])"
      ]
     },
     "execution_count": 344,
     "metadata": {},
     "output_type": "execute_result"
    }
   ],
   "source": [
    "duplicates_filt = df.duplicated(keep=False)\n",
    "duplicates_filt.unique()"
   ]
  },
  {
   "cell_type": "code",
   "execution_count": 345,
   "metadata": {},
   "outputs": [
    {
     "data": {
      "text/plain": [
       "np.int64(0)"
      ]
     },
     "execution_count": 345,
     "metadata": {},
     "output_type": "execute_result"
    }
   ],
   "source": [
    "Price_zero=df['price']==0\n",
    "Price_zero.sum()"
   ]
  },
  {
   "cell_type": "code",
   "execution_count": 346,
   "metadata": {},
   "outputs": [
    {
     "data": {
      "text/html": [
       "<div>\n",
       "<style scoped>\n",
       "    .dataframe tbody tr th:only-of-type {\n",
       "        vertical-align: middle;\n",
       "    }\n",
       "\n",
       "    .dataframe tbody tr th {\n",
       "        vertical-align: top;\n",
       "    }\n",
       "\n",
       "    .dataframe thead th {\n",
       "        text-align: right;\n",
       "    }\n",
       "</style>\n",
       "<table border=\"1\" class=\"dataframe\">\n",
       "  <thead>\n",
       "    <tr style=\"text-align: right;\">\n",
       "      <th></th>\n",
       "      <th>unique_count</th>\n",
       "    </tr>\n",
       "  </thead>\n",
       "  <tbody>\n",
       "    <tr>\n",
       "      <th>ID</th>\n",
       "      <td>7000</td>\n",
       "    </tr>\n",
       "    <tr>\n",
       "      <th>Brand</th>\n",
       "      <td>185</td>\n",
       "    </tr>\n",
       "    <tr>\n",
       "      <th>VehicleModel</th>\n",
       "      <td>1480</td>\n",
       "    </tr>\n",
       "    <tr>\n",
       "      <th>ManufacturingYear</th>\n",
       "      <td>555</td>\n",
       "    </tr>\n",
       "    <tr>\n",
       "      <th>Type</th>\n",
       "      <td>81</td>\n",
       "    </tr>\n",
       "    <tr>\n",
       "      <th>rating</th>\n",
       "      <td>15</td>\n",
       "    </tr>\n",
       "    <tr>\n",
       "      <th>color</th>\n",
       "      <td>16</td>\n",
       "    </tr>\n",
       "    <tr>\n",
       "      <th>Duty</th>\n",
       "      <td>1173</td>\n",
       "    </tr>\n",
       "    <tr>\n",
       "      <th>fuel</th>\n",
       "      <td>7</td>\n",
       "    </tr>\n",
       "    <tr>\n",
       "      <th>CylinderCount</th>\n",
       "      <td>28</td>\n",
       "    </tr>\n",
       "    <tr>\n",
       "      <th>type of gear</th>\n",
       "      <td>7</td>\n",
       "    </tr>\n",
       "    <tr>\n",
       "      <th>capacity</th>\n",
       "      <td>87</td>\n",
       "    </tr>\n",
       "    <tr>\n",
       "      <th>Odometer</th>\n",
       "      <td>4964</td>\n",
       "    </tr>\n",
       "    <tr>\n",
       "      <th>#airbags</th>\n",
       "      <td>321</td>\n",
       "    </tr>\n",
       "    <tr>\n",
       "      <th>price</th>\n",
       "      <td>1218</td>\n",
       "    </tr>\n",
       "  </tbody>\n",
       "</table>\n",
       "</div>"
      ],
      "text/plain": [
       "                   unique_count\n",
       "ID                         7000\n",
       "Brand                       185\n",
       "VehicleModel               1480\n",
       "ManufacturingYear           555\n",
       "Type                         81\n",
       "rating                       15\n",
       "color                        16\n",
       "Duty                       1173\n",
       "fuel                          7\n",
       "CylinderCount                28\n",
       "type of gear                  7\n",
       "capacity                     87\n",
       "Odometer                   4964\n",
       "#airbags                    321\n",
       "price                      1218"
      ]
     },
     "execution_count": 346,
     "metadata": {},
     "output_type": "execute_result"
    }
   ],
   "source": [
    "pd.DataFrame(df.nunique(),columns=['unique_count'])"
   ]
  },
  {
   "cell_type": "code",
   "execution_count": 347,
   "metadata": {},
   "outputs": [
    {
     "data": {
      "image/png": "[encoded data removed]",
      "text/plain": [
       "<Figure size 640x480 with 1 Axes>"
      ]
     },
     "metadata": {},
     "output_type": "display_data"
    }
   ],
   "source": [
    "df_color_price = df.dropna(subset=['color', 'price'])\n",
    "sns.barplot(x='color', y='price', data=df_color_price)\n",
    "sns.set_style('darkgrid')\n",
    "plt.xticks(rotation=90)\n",
    "plt.title('Average Car Price by Color')\n",
    "plt.xlabel('Color')\n",
    "plt.ylabel('Average Price')\n",
    "plt.show()"
   ]
  },
  {
   "cell_type": "markdown",
   "metadata": {},
   "source": [
    "### `Important Features to Keep and Fill NaNs` \n",
    "1- Brand (706 NaNs): Important for the car's valuation. Fill NaNs with a placeholder or the most common brand. \\\n",
    "2- VehicleModel (697 NaNs): Specific models can have different price points. Fill NaNs with a placeholder or the most common model. \\\n",
    "3- ManufacturingYear (695 NaNs): Newer cars typically have higher values. Fill NaNs with the median or most common year. \\\n",
    "4- Type (685 NaNs): Different car types (SUV, sedan, etc.) have different price ranges. Fill NaNs with a placeholder or the most common type.\\\n",
    "5- rating (690 NaNs): User ratings might affect the price. Fill NaNs with the median or average rating.\\\n",
    "6- color (2124 NaNs): While color can affect price, it's not as critical as other features. Fill NaNs with a placeholder or the most common color.\\\n",
    "7- fuel (696 NaNs): Fuel type can significantly affect car price. Fill NaNs with the most common fuel type.\\\n",
    "8- type of gear (692 NaNs): Automatic vs. manual transmission can impact the price. Fill NaNs with the most common type of gear.\n",
    "\n",
    "### `Features with No NaNs` \n",
    "1- ID: This is an identifier and not useful for prediction. Can be dropped.\\\n",
    "2- Duty: Keep if it impacts car price in your context.\\\n",
    "3- CylinderCount: Important as it affects car performance and price.\\\n",
    "4- capacity: Important for car's engine size.\\\n",
    "5- Odometer: Very important as mileage impacts car value.\\\n",
    "6- #airbags: Safety features can affect car price.\\\n",
    "7- price: This is the target variable.\n"
   ]
  },
  {
   "cell_type": "markdown",
   "metadata": {},
   "source": [
    "#### `Summary`\n",
    "1. No duplicates in data\n",
    "2. There are Missing values in: Brand , VehicleModel , ManufacturingYear , Type , rating , color , fuel , type of gear       \n",
    "3. ID column is not important and needs to be dropped\n",
    "4. color column has alot of missing values and doesn't affect the price significantly so it also needs to be dropped\n",
    "5. There are some categorical features need to be converted into numerical(ManufacturingYear-CylinderCount-Odometer-#airbags)"
   ]
  },
  {
   "cell_type": "markdown",
   "metadata": {},
   "source": [
    "### Cleaning"
   ]
  },
  {
   "cell_type": "code",
   "execution_count": 348,
   "metadata": {},
   "outputs": [],
   "source": [
    "dd = df.copy()"
   ]
  },
  {
   "cell_type": "markdown",
   "metadata": {},
   "source": [
    "#### `ID`"
   ]
  },
  {
   "cell_type": "code",
   "execution_count": 349,
   "metadata": {},
   "outputs": [],
   "source": [
    "dd = dd.drop(columns=['ID'])"
   ]
  },
  {
   "cell_type": "markdown",
   "metadata": {},
   "source": [
    "#### `Brand`"
   ]
  },
  {
   "cell_type": "code",
   "execution_count": 350,
   "metadata": {},
   "outputs": [
    {
     "data": {
      "text/html": [
       "<div>\n",
       "<style scoped>\n",
       "    .dataframe tbody tr th:only-of-type {\n",
       "        vertical-align: middle;\n",
       "    }\n",
       "\n",
       "    .dataframe tbody tr th {\n",
       "        vertical-align: top;\n",
       "    }\n",
       "\n",
       "    .dataframe thead th {\n",
       "        text-align: right;\n",
       "    }\n",
       "</style>\n",
       "<table border=\"1\" class=\"dataframe\">\n",
       "  <thead>\n",
       "    <tr style=\"text-align: right;\">\n",
       "      <th></th>\n",
       "      <th>Brand</th>\n",
       "    </tr>\n",
       "  </thead>\n",
       "  <tbody>\n",
       "    <tr>\n",
       "      <th>0</th>\n",
       "      <td>NaN</td>\n",
       "    </tr>\n",
       "    <tr>\n",
       "      <th>1</th>\n",
       "      <td>I love TOYOTA</td>\n",
       "    </tr>\n",
       "    <tr>\n",
       "      <th>2</th>\n",
       "      <td>hyundai</td>\n",
       "    </tr>\n",
       "    <tr>\n",
       "      <th>3</th>\n",
       "      <td>opel</td>\n",
       "    </tr>\n",
       "    <tr>\n",
       "      <th>4</th>\n",
       "      <td>subaru</td>\n",
       "    </tr>\n",
       "  </tbody>\n",
       "</table>\n",
       "</div>"
      ],
      "text/plain": [
       "           Brand\n",
       "0            NaN\n",
       "1  I love TOYOTA\n",
       "2        hyundai\n",
       "3           opel\n",
       "4         subaru"
      ]
     },
     "execution_count": 350,
     "metadata": {},
     "output_type": "execute_result"
    }
   ],
   "source": [
    "dd[['Brand']].head()"
   ]
  },
  {
   "cell_type": "code",
   "execution_count": 351,
   "metadata": {},
   "outputs": [
    {
     "data": {
      "text/plain": [
       "array([nan, 'I love TOYOTA', 'hyundai', 'opel', 'subaru', 'VOLKSWAGEN',\n",
       "       'FORD', 'Bmw', 'jaguar', 'I love HONDA', 'mercedes-benz',\n",
       "       'I love FORD', 'honda', 'HYUNDAI', 'NISSAN', 'toyota',\n",
       "       'volkswagen', 'lexus', 'ford', 'SSANGYONG', 'HONDA', 'Hyundai',\n",
       "       'Toyota', 'BMW', 'MERCEDES-BENZ is the best',\n",
       "       'I love MERCEDES-BENZ', 'SSANGYONG is the best', 'I love SUBARU',\n",
       "       'ssangyong', 'TOYOTA is the best', 'nissan', 'kia', 'DAEWOO',\n",
       "       'SUBARU is the best', 'TOYOTA', 'bmw', 'AUDI', 'CHEVROLET', 'jeep',\n",
       "       'SUBARU', 'MERCEDES-BENZ', 'Mercedes-Benz', 'I love BMW', 'LEXUS',\n",
       "       'I love HYUNDAI', 'NISSAN is the best', 'Opel', 'PORSCHE', 'MAZDA',\n",
       "       'I love NISSAN', 'HYUNDAI is the best', 'chevrolet', 'mitsubishi',\n",
       "       'I love KIA', 'Chevrolet', 'mazda', 'KIA', 'BMW is the best',\n",
       "       'gmc', 'I love LEXUS', 'MITSUBISHI', 'I love MITSUBISHI', 'skoda',\n",
       "       'Lexus', 'Volkswagen', 'SUZUKI', 'Ford', 'JEEP', 'OPEL', 'Honda',\n",
       "       'I love VOLKSWAGEN', 'fiat', 'FORD is the best', 'PEUGEOT',\n",
       "       'VOLKSWAGEN is the best', 'audi', 'Kia', 'I love DODGE', 'mini',\n",
       "       'Mini', 'VAZ', 'Nissan', 'GAZ', 'Ssangyong', 'MINI is the best',\n",
       "       'Cadillac', 'I love OPEL', 'FIAT is the best', 'Dodge', 'uaz',\n",
       "       'seat', 'ROVER', 'I love CHEVROLET', 'HONDA is the best',\n",
       "       'I love SUZUKI', 'OPEL is the best', 'Peugeot', 'I love MAZDA',\n",
       "       'chrysler', 'Mitsubishi', 'AUDI is the best', 'SKODA',\n",
       "       'LAND ROVER', 'KIA is the best', 'CHEVROLET is the best',\n",
       "       'I love VAZ', 'CADILLAC', 'INFINITI is the best', 'I love PORSCHE',\n",
       "       'LEXUS is the best', 'dodge', 'I love AUDI', 'Jeep', 'სხვა',\n",
       "       'MITSUBISHI is the best', 'Porsche', 'alfa romeo', 'Subaru',\n",
       "       'MAZDA is the best', 'I love SSANGYONG', 'Mazda', 'suzuki', 'FIAT',\n",
       "       'daewoo', 'Audi', 'RENAULT', 'I love MINI', 'DODGE', 'greatwall',\n",
       "       'Buick', 'porsche', 'JEEP is the best', 'VOLVO', 'LINCOLN',\n",
       "       'Isuzu', 'DODGE is the best', 'I love FIAT', 'Scion', 'UAZ',\n",
       "       'SUZUKI is the best', 'buick', 'RENAULT is the best', 'scion',\n",
       "       'I love DAEWOO', 'JAGUAR is the best', 'Renault', 'lincoln',\n",
       "       'I love VOLVO', 'Volvo', 'SCION', 'volvo', 'ROLLS-ROYCE', 'Daewoo',\n",
       "       'DAEWOO is the best', 'Fiat', 'I love CITROEN', 'renault',\n",
       "       'PONTIAC', 'acura', 'DAIHATSU', 'LAND ROVER is the best',\n",
       "       'INFINITI', 'UAZ is the best', 'moskvich', 'GMC', 'land rover',\n",
       "       'BUICK', 'I love JEEP', 'I love SKODA', 'MINI', 'vaz', 'Suzuki',\n",
       "       'I love CADILLAC', 'infiniti', 'I love GAZ', 'JAGUAR', 'Mercury',\n",
       "       'Maserati', 'citroen', 'I love LAND ROVER', 'peugeot',\n",
       "       'DAIHATSU is the best', 'mercury', 'gaz', 'daihatsu', 'Jaguar'],\n",
       "      dtype=object)"
      ]
     },
     "execution_count": 351,
     "metadata": {},
     "output_type": "execute_result"
    }
   ],
   "source": [
    "dd['Brand'].unique()"
   ]
  },
  {
   "cell_type": "code",
   "execution_count": 352,
   "metadata": {},
   "outputs": [],
   "source": [
    "def clean_brand(brand):\n",
    "    if pd.isna(brand):\n",
    "        return np.nan\n",
    "    brand = brand.lower()\n",
    "    for prefix in [\"i love \", \" is the best\"]:\n",
    "        brand = brand.replace(prefix, \"\")\n",
    "    return brand.strip()\n",
    "\n",
    "dd['Brand'] = dd['Brand'].apply(clean_brand)"
   ]
  },
  {
   "cell_type": "code",
   "execution_count": 353,
   "metadata": {},
   "outputs": [
    {
     "data": {
      "text/plain": [
       "array([nan, 'toyota', 'hyundai', 'opel', 'subaru', 'volkswagen', 'ford',\n",
       "       'bmw', 'jaguar', 'honda', 'mercedes-benz', 'nissan', 'lexus',\n",
       "       'ssangyong', 'kia', 'daewoo', 'audi', 'chevrolet', 'jeep',\n",
       "       'porsche', 'mazda', 'mitsubishi', 'gmc', 'skoda', 'suzuki', 'fiat',\n",
       "       'peugeot', 'dodge', 'mini', 'vaz', 'gaz', 'cadillac', 'uaz',\n",
       "       'seat', 'rover', 'chrysler', 'land rover', 'infiniti', 'სხვა',\n",
       "       'alfa romeo', 'renault', 'greatwall', 'buick', 'volvo', 'lincoln',\n",
       "       'isuzu', 'scion', 'rolls-royce', 'citroen', 'pontiac', 'acura',\n",
       "       'daihatsu', 'moskvich', 'mercury', 'maserati'], dtype=object)"
      ]
     },
     "execution_count": 353,
     "metadata": {},
     "output_type": "execute_result"
    }
   ],
   "source": [
    "dd['Brand'].unique()"
   ]
  },
  {
   "cell_type": "code",
   "execution_count": 354,
   "metadata": {},
   "outputs": [],
   "source": [
    "dd['Brand'] = dd['Brand'].str.replace('სხვა','other')\n",
    "dd['Brand'] = dd['Brand'].str.replace('rover','land rover')\n",
    "dd['Brand'] = dd['Brand'].fillna('other')"
   ]
  },
  {
   "cell_type": "code",
   "execution_count": 355,
   "metadata": {},
   "outputs": [
    {
     "data": {
      "text/plain": [
       "array(['other', 'toyota', 'hyundai', 'opel', 'subaru', 'volkswagen',\n",
       "       'ford', 'bmw', 'jaguar', 'honda', 'mercedes-benz', 'nissan',\n",
       "       'lexus', 'ssangyong', 'kia', 'daewoo', 'audi', 'chevrolet', 'jeep',\n",
       "       'porsche', 'mazda', 'mitsubishi', 'gmc', 'skoda', 'suzuki', 'fiat',\n",
       "       'peugeot', 'dodge', 'mini', 'vaz', 'gaz', 'cadillac', 'uaz',\n",
       "       'seat', 'land rover', 'chrysler', 'land land rover', 'infiniti',\n",
       "       'alfa romeo', 'renault', 'greatwall', 'buick', 'volvo', 'lincoln',\n",
       "       'isuzu', 'scion', 'rolls-royce', 'citroen', 'pontiac', 'acura',\n",
       "       'daihatsu', 'moskvich', 'mercury', 'maserati'], dtype=object)"
      ]
     },
     "execution_count": 355,
     "metadata": {},
     "output_type": "execute_result"
    }
   ],
   "source": [
    "dd['Brand'].unique()"
   ]
  },
  {
   "cell_type": "code",
   "execution_count": 356,
   "metadata": {},
   "outputs": [
    {
     "data": {
      "text/plain": [
       "np.int64(0)"
      ]
     },
     "execution_count": 356,
     "metadata": {},
     "output_type": "execute_result"
    }
   ],
   "source": [
    "dd['Brand'].isna().sum()"
   ]
  },
  {
   "cell_type": "markdown",
   "metadata": {},
   "source": [
    "#### `VehicleModel`"
   ]
  },
  {
   "cell_type": "code",
   "execution_count": 357,
   "metadata": {},
   "outputs": [
    {
     "data": {
      "text/plain": [
       "0       I have the fastest model ever.. yes you got it...\n",
       "1                                                     NaN\n",
       "2                                                      H1\n",
       "3                                                   Corsa\n",
       "4                                          I own Outback.\n",
       "                              ...                        \n",
       "6995                                              ORLANDO\n",
       "6996                                            I own X5.\n",
       "6997                                                  NaN\n",
       "6998                                                Camry\n",
       "6999                                               Sonata\n",
       "Name: VehicleModel, Length: 7000, dtype: object"
      ]
     },
     "execution_count": 357,
     "metadata": {},
     "output_type": "execute_result"
    }
   ],
   "source": [
    "dd['VehicleModel']"
   ]
  },
  {
   "cell_type": "code",
   "execution_count": 358,
   "metadata": {},
   "outputs": [
    {
     "data": {
      "text/html": [
       "<div>\n",
       "<style scoped>\n",
       "    .dataframe tbody tr th:only-of-type {\n",
       "        vertical-align: middle;\n",
       "    }\n",
       "\n",
       "    .dataframe tbody tr th {\n",
       "        vertical-align: top;\n",
       "    }\n",
       "\n",
       "    .dataframe thead th {\n",
       "        text-align: right;\n",
       "    }\n",
       "</style>\n",
       "<table border=\"1\" class=\"dataframe\">\n",
       "  <thead>\n",
       "    <tr style=\"text-align: right;\">\n",
       "      <th></th>\n",
       "      <th>0</th>\n",
       "    </tr>\n",
       "  </thead>\n",
       "  <tbody>\n",
       "    <tr>\n",
       "      <th>0</th>\n",
       "      <td>I have the fastest model ever.. yes you got it...</td>\n",
       "    </tr>\n",
       "    <tr>\n",
       "      <th>1</th>\n",
       "      <td>NaN</td>\n",
       "    </tr>\n",
       "    <tr>\n",
       "      <th>2</th>\n",
       "      <td>H1</td>\n",
       "    </tr>\n",
       "    <tr>\n",
       "      <th>3</th>\n",
       "      <td>Corsa</td>\n",
       "    </tr>\n",
       "    <tr>\n",
       "      <th>4</th>\n",
       "      <td>I own Outback.</td>\n",
       "    </tr>\n",
       "  </tbody>\n",
       "</table>\n",
       "</div>"
      ],
      "text/plain": [
       "                                                   0\n",
       "0  I have the fastest model ever.. yes you got it...\n",
       "1                                                NaN\n",
       "2                                                 H1\n",
       "3                                              Corsa\n",
       "4                                     I own Outback."
      ]
     },
     "execution_count": 358,
     "metadata": {},
     "output_type": "execute_result"
    }
   ],
   "source": [
    "pd.DataFrame(dd['VehicleModel'].unique()).head()"
   ]
  },
  {
   "cell_type": "code",
   "execution_count": 359,
   "metadata": {},
   "outputs": [],
   "source": [
    "def clean_model(model):\n",
    "    if pd.isna(model):\n",
    "        return np.nan\n",
    "    model = model.lower()\n",
    "    for prefix in [\"i have the fastest model ever.. yes you got it right it's \",\"i own \",\"my model which is \",\" is the best\",\".\",]:\n",
    "        model = model.replace(prefix, \"\")\n",
    "    return model.strip()\n",
    "\n",
    "dd['VehicleModel'] = dd['VehicleModel'].apply(clean_model)"
   ]
  },
  {
   "cell_type": "code",
   "execution_count": 360,
   "metadata": {},
   "outputs": [
    {
     "data": {
      "text/plain": [
       "np.int64(697)"
      ]
     },
     "execution_count": 360,
     "metadata": {},
     "output_type": "execute_result"
    }
   ],
   "source": [
    "dd['VehicleModel'].isna().sum()"
   ]
  },
  {
   "cell_type": "code",
   "execution_count": 361,
   "metadata": {},
   "outputs": [],
   "source": [
    "# dd['VehicleModel'] = dd['VehicleModel'].fillna(dd['VehicleModel'].mode()[0])\n",
    "dd['VehicleModel'] = dd['VehicleModel'].fillna('other')"
   ]
  },
  {
   "cell_type": "markdown",
   "metadata": {},
   "source": [
    "#### `ManufacturingYear`"
   ]
  },
  {
   "cell_type": "code",
   "execution_count": 362,
   "metadata": {},
   "outputs": [
    {
     "data": {
      "text/plain": [
       "array(['2017', nan, '2009', '2007', '3010', '1999', '2012', '2011',\n",
       "       '2014', '2015', '2006', '2105', '2013,', '2010', '2017{',\n",
       "       '1-1-2003', '2016', '1998', '2018', '2008', '2015+', '2012\"',\n",
       "       '2013', '2111', '1-1-2020', '2005', '2017*', '2004', '2016.',\n",
       "       '2015#', '1910', '2017&', '1914', '1-1-2013', '3009', '2009&',\n",
       "       '2018}', '14years old', '1-1-2014', '2001', '2015`', '2112',\n",
       "       '1997', '2014@', '1917', '2014+', '2013*', '1-1-2011', '1-1-2008',\n",
       "       '2012,', '2003', '1-1-2007', '15years old', '1916', '1-1-2012',\n",
       "       '1912', '2010~', '2020', '2002>', '2110', '2005>', '2115',\n",
       "       '1-1-2005', '2009%', '2019', '10years old', '1-1-2002', '2015@',\n",
       "       '3013', '1907', '2010*', '2000', '1996_', '12years old', '2011;',\n",
       "       '2017_', '13years old', '3014', '2017(', '2011,', '11years old',\n",
       "       '7years old', '1-1-2010', '3004', '1996|', '1913', '2014|',\n",
       "       '1-1-2016', '2016[', '1900', \"2009'\", '1902', '2117', '1-1-2009',\n",
       "       '8years old', '2118', '1999[', '1995', '6years old', '2113',\n",
       "       '3012', '2010!', '1915', '2002', '2016+', '2009,', '1-1-1998',\n",
       "       '9years old', '2014(', '1911', '1-1-2000', '2017\"', '2013@',\n",
       "       '2014?', '1-1-2017', '21years old', '2010|', '2116', '2011%',\n",
       "       '2098', '1-1-2001', '2007$', '2014/', '26years old', '1918',\n",
       "       '2114', '3008', '2016?', '2006\\\\', '2011(', '3006', '2014`',\n",
       "       '2001:', '1995/', '2006%', '2015*', '28years old', '2107', '2119',\n",
       "       '1908', '2002=', '2011.', '24years old', '1-1-2015', '1-1-1992',\n",
       "       '2008)', '2099', '20years old', '2013;', '1985', '1909', '3007',\n",
       "       '2003@', '1-1-2004', '2016^', '2016:', \"2003'\", '2103', '2011-',\n",
       "       '2014,', '2016/', '2014.', '2011?', '2015=', '23years old', '1905',\n",
       "       '1996', \"2011'\", '33years old', '1983', '2019}', '2007?', '2008?',\n",
       "       '2007[', '3011', '2013\"', '2104', '2007\"', '1998;', '2012&',\n",
       "       '3015', '2013?', '2010>', '2014&', '2006!', '1995?', '1992',\n",
       "       '2008|', '1904', '1993', '2008[', '2015~', '1-1-2006', '2013/',\n",
       "       '2010=', '2003;', '1-1-2019', '2008@', '2015}', '2018_', '2013=',\n",
       "       '2014\\\\', '2012_', '2013]', '2018#', \"2010'\", '17years old',\n",
       "       '2010&', '2010`', '2000[', '2015|', '2005_', '1994%', '1988',\n",
       "       '3017', '25years old', '1898', '2013+', '2012/', '2015)', '1992:',\n",
       "       '2014$', '1903', '3018', '2998', '2012@', '1-1-2018', '2010@',\n",
       "       '2015>', '2010^', '2013{', '2011{', '2012|', '1-1-1996', '2004$',\n",
       "       '3016', '2008}', '1-1-1997', '2002|', '2010:', '2005=', '2000?',\n",
       "       '2011`', '2012^', '19years old', '16years old', '2012~', '1982',\n",
       "       '2014!', '2007(', '1996#', '2011~', '1994', '29years old', '2108',\n",
       "       '1999<', '2005\\\\', '2005<', '2005]', '18years old', '2010(',\n",
       "       '2012-', '2011<', '2007%', '2014}', '2011)', '2017)', '2010)',\n",
       "       '2000\"', '2016`', \"1997'\", '2012(', '2012+', '2008/', '2012!',\n",
       "       \"2017'\", '2009-', '2009.', '2010+', '5years old', '2014]', '2106',\n",
       "       '3003', '2010[', '1896', '2008%', '2015:', '1-1-1995', '2100',\n",
       "       '2012{', '2016}', '1995\\\\', '2012=', '2007`', '2011_', '2012>',\n",
       "       '2012:', '1997<', '1893', '2015!', '2016\"', '1987', \"2016'\",\n",
       "       '2017?', '1-1-1999', '2011+', '2010$', '2001,', '2019[', '2012]',\n",
       "       '2011}', '1991', '2013|', '2003$', '22years old', '2001)', '1988[',\n",
       "       '2014*', '2008_', '2120', '2019]', '2013\\\\', '2012.', '1990',\n",
       "       '2014<', '2003_', '2000+', '2005:', '2016>', '2010}', '2009(',\n",
       "       '2009)', '2000>', '2001~', '2005+', '2003&', '2017$', '2018|',\n",
       "       '2002\"', '2010.', '2017\\\\', '1995!', '2016&', '2017^', '2015^',\n",
       "       '2000{', '2102', '2004{', '2004.', '2009}', '2017}', '3005',\n",
       "       '2016_', '2005%', '2011|', '2097', '31years old', '1999\\\\',\n",
       "       '2016)', '2015_', '1939', '2013&', '2015[', '2003=', \"2008'\",\n",
       "       '2011\\\\', '2012%', '2008;', '2011#', '2012$', '2015\\\\', '2000|',\n",
       "       '2011*', '2012[', '2004_', \"2013'\", '2013_', '2015.', '2016|',\n",
       "       '2011\"', '2015(', '1919', '1997`', '2014{', '2011^', '2008,',\n",
       "       '2018:', '2001_', '2006-', '2014[', '1-1-1993', '2096', '2007&',\n",
       "       '2007_', '2018^', '2016!', '2015,', '2016*', '2006}', '2101',\n",
       "       '2016%', '2018&', '2019-', '2007|', '2014_', '2999', '2011$',\n",
       "       '2013.', '2018{', '4years old', '2016<', '27years old', '1901',\n",
       "       '2017[', '2015$', '2014^', '2002-', '2016\\\\', '2014-', '1-1-1994',\n",
       "       '2007]', '2018,', '2012`', '2012\\\\', '1995{', '2006+', '2000~',\n",
       "       '2006.', '2001@', '2018~', '2013!', '2012}', '3019', '2003{',\n",
       "       '2007=', '2017=', '2018/', '71years old', '2013)', '3002', '2012?',\n",
       "       '2008-', '2003\"', '2011:', '2008&', '1995`', '2015%', '1986',\n",
       "       '2015-', '2006#', '2017|', '2017/', '2001{', '2005$', '1999_',\n",
       "       '2013#', '2012#', '2013$', '2013[', '2011[', '2014:', '1997=',\n",
       "       '2009*', '2016#', '3000', '2018+', '2002@', '2014\"', '2014#',\n",
       "       '1995*', '2009/', '2109', \"2019'\", '2005`', '2007,', '2016-',\n",
       "       \"2015'\", '2009;', '2008!', '40years old', '1997$', '1999\"',\n",
       "       '2010;', '1992]', '2002.', '1997~', '1920', '2009]', '2089',\n",
       "       '1999|', '2009@', '2003\\\\', '2013(', '1999+', '2018*', '2013-',\n",
       "       '2013%', '2008*', '2992', '2010#', '2018;', '1996^', '2012)',\n",
       "       '2008>', '2015/', '2011&', \"2002'\", '2003<', '2016{', '3001',\n",
       "       '2009|', '2000%', '2003#', '2018@', '2013>', '2017<', '1984',\n",
       "       '2017.', '2012<', '2013~', '2017;', '2018-', '2001`', '1906',\n",
       "       '2093', '1995.', \"2006'\", '2007}', \"2012'\", '2002$', '1978',\n",
       "       '2008^', '2010{', '2004(', '2007!', \"2018'\", '2011=', '2016;',\n",
       "       '2005;', '1998<', '2000-', '2005)', '2007*', '2010<', '2997',\n",
       "       '2016@', '1895', '2008#', '1992$', '2015{', '2015]', '2003)',\n",
       "       '2011]', '2019`', '2002\\\\', '1998)'], dtype=object)"
      ]
     },
     "execution_count": 362,
     "metadata": {},
     "output_type": "execute_result"
    }
   ],
   "source": [
    "dd['ManufacturingYear'].unique()"
   ]
  },
  {
   "cell_type": "code",
   "execution_count": 363,
   "metadata": {},
   "outputs": [],
   "source": [
    "dd['ManufacturingYear'] = dd['ManufacturingYear'].str.replace(r'1-1-', '', regex=True)\n",
    "dd['ManufacturingYear'] = dd['ManufacturingYear'].str.replace(r'[^0-9]', '', regex=True)"
   ]
  },
  {
   "cell_type": "code",
   "execution_count": 364,
   "metadata": {},
   "outputs": [],
   "source": [
    "def clean_Year(model):\n",
    "    if pd.isna(model):\n",
    "        return np.nan\n",
    "    elif len(model) <= 2:\n",
    "        model = str(2024-int(model))\n",
    "    return model\n",
    "\n",
    "dd['ManufacturingYear'] = dd['ManufacturingYear'].apply(clean_Year)"
   ]
  },
  {
   "cell_type": "code",
   "execution_count": 365,
   "metadata": {},
   "outputs": [
    {
     "data": {
      "text/plain": [
       "array(['2017', nan, '2009', '2007', '3010', '1999', '2012', '2011',\n",
       "       '2014', '2015', '2006', '2105', '2013', '2010', '2003', '2016',\n",
       "       '1998', '2018', '2008', '2111', '2020', '2005', '2004', '1910',\n",
       "       '1914', '3009', '2001', '2112', '1997', '1917', '1916', '1912',\n",
       "       '2002', '2110', '2115', '2019', '3013', '1907', '2000', '1996',\n",
       "       '3014', '3004', '1913', '1900', '1902', '2117', '2118', '1995',\n",
       "       '2113', '3012', '1915', '1911', '2116', '2098', '1918', '2114',\n",
       "       '3008', '3006', '2107', '2119', '1908', '1992', '2099', '1985',\n",
       "       '1909', '3007', '2103', '1905', '1991', '1983', '3011', '2104',\n",
       "       '3015', '1904', '1993', '1994', '1988', '3017', '1898', '1903',\n",
       "       '3018', '2998', '3016', '1982', '2108', '2106', '3003', '1896',\n",
       "       '2100', '1893', '1987', '2120', '1990', '2102', '3005', '2097',\n",
       "       '1939', '1919', '2096', '2101', '2999', '1901', '3019', '1953',\n",
       "       '3002', '1986', '3000', '2109', '1984', '1920', '2089', '2992',\n",
       "       '3001', '1906', '2093', '1978', '2997', '1895'], dtype=object)"
      ]
     },
     "execution_count": 365,
     "metadata": {},
     "output_type": "execute_result"
    }
   ],
   "source": [
    "dd['ManufacturingYear'].unique()"
   ]
  },
  {
   "cell_type": "code",
   "execution_count": 366,
   "metadata": {},
   "outputs": [],
   "source": [
    "dd['ManufacturingYear'] = dd['ManufacturingYear'].astype('float')"
   ]
  },
  {
   "cell_type": "code",
   "execution_count": 367,
   "metadata": {},
   "outputs": [],
   "source": [
    "def normalize_Year(year):\n",
    "    if pd.isna(year):\n",
    "        return np.nan\n",
    "    elif year >= 3000:\n",
    "        year -= 1000\n",
    "    if year >= 2900:\n",
    "        year -= 1000\n",
    "    if year >= 2100 :\n",
    "        year -= 100\n",
    "    if year > 2024:\n",
    "        year = 2024\n",
    "    return year\n",
    "# max(dd['ManufacturingYear'].apply(normalize_Year).unique())\n",
    "dd['ManufacturingYear'] = dd['ManufacturingYear'].apply(normalize_Year)"
   ]
  },
  {
   "cell_type": "code",
   "execution_count": 368,
   "metadata": {},
   "outputs": [
    {
     "data": {
      "text/plain": [
       "array([2017.,   nan, 2009., 2007., 2010., 1999., 2012., 2011., 2014.,\n",
       "       2015., 2006., 2005., 2013., 2003., 2016., 1998., 2018., 2008.,\n",
       "       2020., 2004., 1910., 1914., 2001., 1997., 1917., 1916., 1912.,\n",
       "       2002., 2019., 1907., 2000., 1996., 1913., 1900., 1902., 1995.,\n",
       "       1915., 1911., 2024., 1918., 1908., 1992., 1985., 1909., 1905.,\n",
       "       1991., 1983., 1904., 1993., 1994., 1988., 1898., 1903., 1982.,\n",
       "       1896., 1893., 1987., 1990., 1939., 1919., 1901., 1953., 1986.,\n",
       "       1984., 1920., 1906., 1978., 1895.])"
      ]
     },
     "execution_count": 368,
     "metadata": {},
     "output_type": "execute_result"
    }
   ],
   "source": [
    "dd['ManufacturingYear'].unique()"
   ]
  },
  {
   "cell_type": "code",
   "execution_count": 369,
   "metadata": {},
   "outputs": [
    {
     "data": {
      "text/plain": [
       "count    6305.000000\n",
       "mean     2007.242189\n",
       "std        19.226035\n",
       "min      1893.000000\n",
       "25%      2008.000000\n",
       "50%      2012.000000\n",
       "75%      2014.000000\n",
       "max      2024.000000\n",
       "Name: ManufacturingYear, dtype: float64"
      ]
     },
     "execution_count": 369,
     "metadata": {},
     "output_type": "execute_result"
    }
   ],
   "source": [
    "dd['ManufacturingYear'].describe()"
   ]
  },
  {
   "cell_type": "code",
   "execution_count": 370,
   "metadata": {},
   "outputs": [
    {
     "data": {
      "text/plain": [
       "np.float64(2012.0)"
      ]
     },
     "execution_count": 370,
     "metadata": {},
     "output_type": "execute_result"
    }
   ],
   "source": [
    "dd['ManufacturingYear'].median()"
   ]
  },
  {
   "cell_type": "code",
   "execution_count": 371,
   "metadata": {},
   "outputs": [],
   "source": [
    "dd['ManufacturingYear'] = dd['ManufacturingYear'].fillna(2010)"
   ]
  },
  {
   "cell_type": "markdown",
   "metadata": {},
   "source": [
    "#### `Type`"
   ]
  },
  {
   "cell_type": "code",
   "execution_count": 372,
   "metadata": {},
   "outputs": [
    {
     "data": {
      "text/plain": [
       "array(['WOOW Sedan', 'Minivan3', 'MINIVAN', 'Hatchback', 'sedan', 'SEDAN',\n",
       "       'Pickup3', 'jeep', 'Minivan', 'HATCHBACK', 'minivan', 'hatchback',\n",
       "       'JEEP', 'microbus', nan, 'Jeep1', 'Sedan0', 'Coupe', 'Sedan3',\n",
       "       'Hatchback3', 'Sedan', 'Jeep0', 'WOOW Hatchback', 'WOOW Jeep',\n",
       "       'Hatchback1', 'WOOW Coupe', 'UNIVERSAL', 'Hatchback2', 'Jeep2',\n",
       "       'Hatchback4', 'Sedan4', 'Sedan1', 'Jeep', 'WOOW Minivan', 'Jeep4',\n",
       "       'Hatchback0', 'Goods Wagon', 'universal', 'WOOW Goods wagon',\n",
       "       'MICROBUS', 'Minivan0', 'Coupe1', 'goods wagon', 'pickup', 'Jeep3',\n",
       "       'Sedan2', 'coupe', 'Pickup1', 'COUPE', 'CABRIOLET', 'Universal0',\n",
       "       'Microbus', 'WOOW Universal', 'Goods wagon1', 'WOOW Microbus',\n",
       "       'Minivan2', 'GOODS WAGON', 'cabriolet', 'Goods wagon0', 'Coupe4',\n",
       "       'Universal', 'Goods wagon2', 'Microbus4', 'Coupe3', 'Goods wagon4',\n",
       "       'Limousine', 'PICKUP', 'Microbus0', 'Coupe0', 'Goods wagon3',\n",
       "       'Universal3', 'Minivan1', 'Microbus3', 'Microbus1', 'Universal2',\n",
       "       'Cabriolet1', 'limousine', 'Minivan4', 'Universal4', 'Coupe2',\n",
       "       'Pickup', 'Pickup0'], dtype=object)"
      ]
     },
     "execution_count": 372,
     "metadata": {},
     "output_type": "execute_result"
    }
   ],
   "source": [
    "dd['Type'].unique()"
   ]
  },
  {
   "cell_type": "code",
   "execution_count": 373,
   "metadata": {},
   "outputs": [
    {
     "data": {
      "text/plain": [
       "array(['woowsedan', 'minivan', 'hatchback', 'sedan', 'pickup', 'jeep',\n",
       "       'microbus', nan, 'coupe', 'woowhatchback', 'woowjeep', 'woowcoupe',\n",
       "       'universal', 'woowminivan', 'goodswagon', 'woowgoodswagon',\n",
       "       'cabriolet', 'woowuniversal', 'woowmicrobus', 'limousine'],\n",
       "      dtype=object)"
      ]
     },
     "execution_count": 373,
     "metadata": {},
     "output_type": "execute_result"
    }
   ],
   "source": [
    "dd['Type']=dd['Type'].str.lower()\n",
    "dd['Type']=dd['Type'].str.replace(r'[^a-z]', '', regex=True)\n",
    "dd['Type'].unique()"
   ]
  },
  {
   "cell_type": "code",
   "execution_count": 374,
   "metadata": {},
   "outputs": [
    {
     "data": {
      "text/plain": [
       "array(['sedan', 'minivan', 'hatchback', 'pickup', 'jeep', 'microbus', nan,\n",
       "       'coupe', 'universal', 'swagon', 'cabriolet', 'limousine'],\n",
       "      dtype=object)"
      ]
     },
     "execution_count": 374,
     "metadata": {},
     "output_type": "execute_result"
    }
   ],
   "source": [
    "def clean_type(type):\n",
    "    if pd.isna(type):\n",
    "        return np.nan\n",
    "    for word in ['good' , 'woow']:\n",
    "        type = type.replace(word , '')\n",
    "    return type\n",
    "\n",
    "dd['Type'] = dd['Type'].apply(clean_type)\n",
    "dd['Type'].unique()"
   ]
  },
  {
   "cell_type": "code",
   "execution_count": 375,
   "metadata": {},
   "outputs": [],
   "source": [
    "dd['Type'] = dd['Type'].str.replace('swagon','goods wagon')"
   ]
  },
  {
   "cell_type": "code",
   "execution_count": 376,
   "metadata": {},
   "outputs": [
    {
     "data": {
      "text/plain": [
       "array(['sedan', 'minivan', 'hatchback', 'pickup', 'jeep', 'microbus', nan,\n",
       "       'coupe', 'universal', 'goods wagon', 'cabriolet', 'limousine'],\n",
       "      dtype=object)"
      ]
     },
     "execution_count": 376,
     "metadata": {},
     "output_type": "execute_result"
    }
   ],
   "source": [
    "dd['Type'].unique()"
   ]
  },
  {
   "cell_type": "code",
   "execution_count": 377,
   "metadata": {},
   "outputs": [],
   "source": [
    "dd['Type'] = dd['Type'].fillna(dd['Type'].mode()[0])"
   ]
  },
  {
   "cell_type": "markdown",
   "metadata": {},
   "source": [
    "#### `rating`"
   ]
  },
  {
   "cell_type": "code",
   "execution_count": 378,
   "metadata": {},
   "outputs": [
    {
     "data": {
      "text/plain": [
       "array([ 0.,  5.,  4., nan,  2.,  6.,  3.,  8.,  1.,  7., -1., -2., -3.,\n",
       "        9., 10., -4.])"
      ]
     },
     "execution_count": 378,
     "metadata": {},
     "output_type": "execute_result"
    }
   ],
   "source": [
    "dd['rating'].unique()"
   ]
  },
  {
   "cell_type": "code",
   "execution_count": 379,
   "metadata": {},
   "outputs": [
    {
     "data": {
      "text/plain": [
       "rating\n",
       " 2.0     1248\n",
       " 3.0     1175\n",
       " 1.0      935\n",
       " 4.0      925\n",
       " 0.0      857\n",
       " 5.0      609\n",
       " 6.0      274\n",
       "-1.0      108\n",
       " 7.0       94\n",
       " 8.0       35\n",
       "-2.0       30\n",
       "-3.0       11\n",
       " 9.0        7\n",
       " 10.0       1\n",
       "-4.0        1\n",
       "Name: count, dtype: int64"
      ]
     },
     "execution_count": 379,
     "metadata": {},
     "output_type": "execute_result"
    }
   ],
   "source": [
    "dd['rating'].value_counts()"
   ]
  },
  {
   "cell_type": "code",
   "execution_count": 380,
   "metadata": {},
   "outputs": [
    {
     "data": {
      "text/plain": [
       "np.int64(690)"
      ]
     },
     "execution_count": 380,
     "metadata": {},
     "output_type": "execute_result"
    }
   ],
   "source": [
    "dd['rating'].isna().sum()"
   ]
  },
  {
   "cell_type": "code",
   "execution_count": 381,
   "metadata": {},
   "outputs": [
    {
     "data": {
      "text/plain": [
       "np.float64(2.0)"
      ]
     },
     "execution_count": 381,
     "metadata": {},
     "output_type": "execute_result"
    }
   ],
   "source": [
    "dd['rating'].median()"
   ]
  },
  {
   "cell_type": "code",
   "execution_count": 382,
   "metadata": {},
   "outputs": [],
   "source": [
    "dd['Type'] = dd['Type'].fillna(dd['rating'].median())"
   ]
  },
  {
   "cell_type": "code",
   "execution_count": 383,
   "metadata": {},
   "outputs": [],
   "source": [
    "# dd['rating'].loc[lambda x : x < 0] = 0"
   ]
  },
  {
   "cell_type": "markdown",
   "metadata": {},
   "source": [
    "#### `color`"
   ]
  },
  {
   "cell_type": "code",
   "execution_count": 384,
   "metadata": {},
   "outputs": [
    {
     "data": {
      "text/plain": [
       "array([nan, 'Metallic', 'Jet Black', 'Sapphire Blue', 'Pearl White',\n",
       "       'Charcoal', 'Gold', 'Crimson', 'Tangerine', 'Sand',\n",
       "       'Emerald Green', 'Lemon Yellow', 'Chocolate', 'Sky Blue',\n",
       "       'Ruby Red', 'Rose Pink', 'Royal Purple'], dtype=object)"
      ]
     },
     "execution_count": 384,
     "metadata": {},
     "output_type": "execute_result"
    }
   ],
   "source": [
    "dd['color'].unique()"
   ]
  },
  {
   "cell_type": "code",
   "execution_count": 385,
   "metadata": {},
   "outputs": [],
   "source": [
    "dd['color'] = dd['color'].fillna(dd['color'].mode()[0])"
   ]
  },
  {
   "cell_type": "markdown",
   "metadata": {},
   "source": [
    "#### `Duty`"
   ]
  },
  {
   "cell_type": "code",
   "execution_count": 386,
   "metadata": {},
   "outputs": [
    {
     "data": {
      "text/plain": [
       "array(['I had to pay a substantial $1249 levy on my new car purchase.',\n",
       "       '-', '1185$', ..., '2909$',\n",
       "       'The car levy amounted is 893 per vehicle.', '965'], dtype=object)"
      ]
     },
     "execution_count": 386,
     "metadata": {},
     "output_type": "execute_result"
    }
   ],
   "source": [
    "dd['Duty'].unique()"
   ]
  },
  {
   "cell_type": "code",
   "execution_count": 387,
   "metadata": {},
   "outputs": [
    {
     "name": "stdout",
     "output_type": "stream",
     "text": [
      "['1249', '0', '1185', '836', '8526', '10777', '1104', '640', '10891', '603', '880', '893', '503', '448', '779', '707', '781', '460', '691', '891', '831', '1099', '1829', '1750', '870', '1055', '790', '1327', '1024', '777', '629', '919', '8810', '586', '9235', '595', '1018', '10394', '1202', '639', '8945', '583', '761', '988', '1058', '10503', '1624', '1172', '638', '1399', '642', '1076', '9606', '419', '765', '4321', '1246', '502', '753', '1077', '382', '843', '730', '2151', '1850', '645', '1282', '1053', '1324', '501', '1030', '784', '259', '7545', '11024', '9498', '915', '1481', '333', '2297', '810', '585', '584', '3156', '2108', '1234', '9355', '425', '1079', '1451', '441', '1673', '1811', '531', '986', '308', '1357', '521', '2455', '1051', '10765', '862', '463', '11325', '289', '1190', '746', '353', '528', '1091', '1917', '473', '574', '10753', '1080', '1266', '934', '8828', '1275', '9166', '1578', '966', '1514', '1714', '394', '697', '11324', '475', '607', '10473', '474', '530', '447', '556', '800', '8489', '769', '1308', '9223', '362', '1083', '1017', '1408', '609', '738', '690', '924', '1268', '9219', '9303', '490', '1194', '1211', '552', '10640', '1301', '1668', '9293', '10781', '11267', '1347', '9313', '11077', '8983', '431', '751', '770', '694', '1505', '1277', '1195', '1356', '11714', '271', '8558', '917', '1361', '978', '10382', '4283', '1646', '833', '527', '1236', '11363', '7734', '1823', '11236', '10779', '562', '10531', '911', '456', '400', '10836', '9358', '1604', '12297', '900', '3894', '9729', '11736', '481', '8982', '1946', '4057', '1273', '9417', '1086', '1363', '10915', '9479', '87', '3301', '420', '1304', '687', '650', '11399', '1528', '8976', '10308', '1537', '10707', '9109', '9360', '877', '10966', '1664', '9014', '971', '1688', '1095', '9415', '11017', '1111', '623', '2971', '749', '1781', '1360', '2606', '2225', '1701', '980', '364', '961', '1694', '732', '1995', '155', '1054', '10919', '1935', '9416', '2410', '928', '9361', '8189', '8921', '10642', '1292', '10419', '1203', '10528', '1267', '9066', '11646', '10595', '879', '9247', '8354', '10639', '1598', '1659', '1297', '10687', '442', '8984', '1474', '418', '10583', '10730', '1405', '9236', '11018', '8815', '1272', '1436', '1288', '10645', '10530', '1662', '11624', '10607', '764', '247', '10585', '9397', '1552', '792', '10574', '614', '1141', '1699', '175', '10447', '10862', '9469', '10761', '11440', '9470', '3292', '9472', '2476', '11051', '11091', '1586', '1198', '10831', '3699', '9138', '1493', '8341', '9371', '1047', '830', '10448', '832', '617', '9667', '10751', '1855', '9123', '876', '11172', '397', '446', '11408', '9414', '10502', '11079', '505', '1148', '644', '975', '798', '8727', '874', '9164', '1107', '1369', '1960', '8467', '1885', '10843', '10584', '10789', '834', '9647', '994', '10834', '696', '742', '878', '1437', '9249', '3739', '1286', '1832', '8601', '11053', '1817', '9190', '1016', '8644', '1539', '1515', '10501', '8942', '9239', '789', '8099', '1205', '7775', '11811', '8923', '1522', '875', '1325', '2265', '10792', '1391', '8184', '1109', '11282', '649', '1090', '9525', '11604', '1413', '682', '9362', '11058', '1848', '1620', '1062', '488', '11750', '11317', '930', '11104', '9391', '11701', '10784', '2209', '10770', '1197', '345', '8844', '1869', '4736', '1730', '1064', '2148', '2056', '724', '9120', '579', '8924', '10629', '11659', '10900', '1533', '11249', '1529', '641', '10924', '1590', '10810', '517', '1677', '1685', '1888', '10446', '8284', '2078', '9210', '9270', '12455', '972', '944', '1998', '722', '1036', '3025', '9393', '10524', '9122', '11266', '10155', '11113', '9169', '8920', '890', '5666', '551', '2236', '9526', '10586', '8901', '2188', '9034', '8947', '1365', '10271', '518', '9497', '2266', '9083', '9350', '993', '10353', '11292', '11706', '8751', '10917', '557', '9741', '494', '399', '706', '702', '9692', '2018', '11277', '1760', '1307', '1681', '1118', '627', '10690', '11268', '294', '1599', '1820', '9559', '9304', '2156', '9405', '363', '8909', '9100', '2084', '1641', '10333', '2570', '1341', '9230', '9076', '1132', '1285', '867', '2177', '9081', '2711', '922', '1110', '9552', '8718', '3208', '10764', '1094', '10474', '970', '8734', '1032', '9711', '9913', '2858', '1486', '7058', '8766', '1375', '402', '2566', '889', '9085', '565', '11185', '2562', '2377', '2736', '692', '1621', '11327', '2670', '1279', '3518', '2909', '965']\n"
     ]
    }
   ],
   "source": [
    "dd['Duty']=dd['Duty'].str.replace(r'[^0-9]', '', regex=True)\n",
    "dd['Duty'] = dd['Duty'].apply(lambda x: '0' if x == '' else x)\n",
    "duty_lst = dd['Duty'].unique().tolist()\n",
    "print(duty_lst)"
   ]
  },
  {
   "cell_type": "code",
   "execution_count": 388,
   "metadata": {},
   "outputs": [],
   "source": [
    "dd['Duty']=dd['Duty'].astype(int)"
   ]
  },
  {
   "cell_type": "code",
   "execution_count": 389,
   "metadata": {},
   "outputs": [
    {
     "data": {
      "text/plain": [
       "np.int64(0)"
      ]
     },
     "execution_count": 389,
     "metadata": {},
     "output_type": "execute_result"
    }
   ],
   "source": [
    "dd['Duty'].isna().sum()"
   ]
  },
  {
   "cell_type": "markdown",
   "metadata": {},
   "source": [
    "#### `fuel`"
   ]
  },
  {
   "cell_type": "code",
   "execution_count": 390,
   "metadata": {},
   "outputs": [
    {
     "data": {
      "text/plain": [
       "array(['Gas', 'Dies', nan, 'Electric Hybrid', 'other', 'Natural Gas',\n",
       "       'hyb', 'others'], dtype=object)"
      ]
     },
     "execution_count": 390,
     "metadata": {},
     "output_type": "execute_result"
    }
   ],
   "source": [
    "dd['fuel'].unique()"
   ]
  },
  {
   "cell_type": "code",
   "execution_count": 391,
   "metadata": {},
   "outputs": [],
   "source": [
    "dd['fuel']=dd['fuel'].str.replace('others','other')\n",
    "dd['fuel']=dd['fuel'].str.replace('hyb','Electric Hybrid')"
   ]
  },
  {
   "cell_type": "code",
   "execution_count": 392,
   "metadata": {},
   "outputs": [],
   "source": [
    "dd['fuel'] = dd['fuel'].fillna('other')"
   ]
  },
  {
   "cell_type": "markdown",
   "metadata": {},
   "source": [
    "#### `CylinderCount`"
   ]
  },
  {
   "cell_type": "code",
   "execution_count": 393,
   "metadata": {},
   "outputs": [
    {
     "data": {
      "text/plain": [
       "array(['4.0', '4.0 cyl', '8.0', '8.0 cyl', '6.0 cyl', '6.0', '14.0', '0',\n",
       "       '5.0', '16.0', '18.0', '3.0', '3.0 cyl', '15.0', '10.0', '11.0',\n",
       "       '2.0 cyl', '5.0 cyl', '9.0', '10.0 cyl', '1.0', '12.0 cyl', '2.0',\n",
       "       '16.0 cyl', '13.0', '1.0 cyl', '12.0', '7.0'], dtype=object)"
      ]
     },
     "execution_count": 393,
     "metadata": {},
     "output_type": "execute_result"
    }
   ],
   "source": [
    "dd['CylinderCount'].unique()"
   ]
  },
  {
   "cell_type": "code",
   "execution_count": 394,
   "metadata": {},
   "outputs": [],
   "source": [
    "dd['CylinderCount'] = dd['CylinderCount'].str.replace(r'[^0-9.]', '', regex=True)"
   ]
  },
  {
   "cell_type": "code",
   "execution_count": 395,
   "metadata": {},
   "outputs": [],
   "source": [
    "dd['CylinderCount'] = dd['CylinderCount'].astype(float).astype(int)"
   ]
  },
  {
   "cell_type": "code",
   "execution_count": 396,
   "metadata": {},
   "outputs": [
    {
     "data": {
      "text/plain": [
       "array([ 4,  8,  6, 14,  0,  5, 16, 18,  3, 15, 10, 11,  2,  9,  1, 12, 13,\n",
       "        7])"
      ]
     },
     "execution_count": 396,
     "metadata": {},
     "output_type": "execute_result"
    }
   ],
   "source": [
    "dd['CylinderCount'].unique()"
   ]
  },
  {
   "cell_type": "markdown",
   "metadata": {},
   "source": [
    "#### `type of gear`"
   ]
  },
  {
   "cell_type": "code",
   "execution_count": 397,
   "metadata": {},
   "outputs": [],
   "source": [
    "dd['type of gear'] = dd['type of gear'].str.lower()"
   ]
  },
  {
   "cell_type": "code",
   "execution_count": 398,
   "metadata": {},
   "outputs": [
    {
     "data": {
      "text/plain": [
       "array(['r', 'auto', nan, 'manual', 'others', 'gear'], dtype=object)"
      ]
     },
     "execution_count": 398,
     "metadata": {},
     "output_type": "execute_result"
    }
   ],
   "source": [
    "dd['type of gear'].unique()"
   ]
  },
  {
   "cell_type": "code",
   "execution_count": 399,
   "metadata": {},
   "outputs": [],
   "source": [
    "dd['type of gear'] = dd['type of gear'].fillna('others')"
   ]
  },
  {
   "cell_type": "code",
   "execution_count": 400,
   "metadata": {},
   "outputs": [
    {
     "data": {
      "text/plain": [
       "array(['r', 'auto', 'others', 'manual', 'gear'], dtype=object)"
      ]
     },
     "execution_count": 400,
     "metadata": {},
     "output_type": "execute_result"
    }
   ],
   "source": [
    "dd['type of gear'].unique()"
   ]
  },
  {
   "cell_type": "markdown",
   "metadata": {},
   "source": [
    "#### `capacity`"
   ]
  },
  {
   "cell_type": "code",
   "execution_count": 401,
   "metadata": {},
   "outputs": [
    {
     "data": {
      "text/plain": [
       "array(['2.5', '2.4', '0', '2', '5', '3', '1.3', '1.5', '1.6', '1.8',\n",
       "       '3.5', '2.7 Turbo', '1.8 Turbo', '2.7', '2.5 Turbo', '3.3', '1.7',\n",
       "       '2.2', '2.2 Turbo', '4', '1.4', '4.8', '1.2', '2.3', '1.6 Turbo',\n",
       "       '4.7', '2.0 Turbo', '2.8 Turbo', '3.2', '5.5', '6.2', '4.6', '3.7',\n",
       "       '1', '3.0 Turbo', '1.9 Turbo', '2.4 Turbo', '5.0 Turbo', '3.6',\n",
       "       '4.4', '1.4 Turbo', '2.6', '3.2 Turbo', '0.6 Turbo', '1.5 Turbo',\n",
       "       '6.3', '3.8', '5.7', '1.9', '4.5', '5.9', '0.3', '5.5 Turbo',\n",
       "       '4.5 Turbo', '4.2', '3.5 Turbo', '0.4', '0.1', '0.2', '0.8',\n",
       "       '4.4 Turbo', '2.3 Turbo', '4.7 Turbo', '2.9 Turbo', '1.7 Turbo',\n",
       "       '6.7', '2.1 Turbo', '2.8', '2.9', '0.7', '2.1', '1.3 Turbo', '5.4',\n",
       "       '5.4 Turbo', '3.4', '5.3', '4.3', '0.9', '0.8 Turbo', '0.6',\n",
       "       '3.6 Turbo', '1.0 Turbo', '5.6', '5.2', '1.1', '4.8 Turbo', '0.5'],\n",
       "      dtype=object)"
      ]
     },
     "execution_count": 401,
     "metadata": {},
     "output_type": "execute_result"
    }
   ],
   "source": [
    "dd['capacity'].unique()"
   ]
  },
  {
   "cell_type": "code",
   "execution_count": 402,
   "metadata": {},
   "outputs": [
    {
     "data": {
      "text/plain": [
       "array([2.5, 2.4, 0. , 2. , 5. , 3. , 1.3, 1.5, 1.6, 1.8, 3.5, 2.7, 3.3,\n",
       "       1.7, 2.2, 4. , 1.4, 4.8, 1.2, 2.3, 4.7, 2.8, 3.2, 5.5, 6.2, 4.6,\n",
       "       3.7, 1. , 1.9, 3.6, 4.4, 2.6, 0.6, 6.3, 3.8, 5.7, 4.5, 5.9, 0.3,\n",
       "       4.2, 0.4, 0.1, 0.2, 0.8, 2.9, 6.7, 2.1, 0.7, 5.4, 3.4, 5.3, 4.3,\n",
       "       0.9, 5.6, 5.2, 1.1, 0.5])"
      ]
     },
     "execution_count": 402,
     "metadata": {},
     "output_type": "execute_result"
    }
   ],
   "source": [
    "dd['capacity'] = dd['capacity'].str.replace(r'[^0-9.]', '', regex=True).astype(float)\n",
    "dd['capacity'].unique()"
   ]
  },
  {
   "cell_type": "markdown",
   "metadata": {},
   "source": [
    "#### `Odometer`"
   ]
  },
  {
   "cell_type": "code",
   "execution_count": 403,
   "metadata": {},
   "outputs": [
    {
     "data": {
      "text/plain": [
       "array(['75492 KM', '220000 KM', 'TOTAL 50653 km', ..., '156802  kilo',\n",
       "       '314373 KM', '131627'], dtype=object)"
      ]
     },
     "execution_count": 403,
     "metadata": {},
     "output_type": "execute_result"
    }
   ],
   "source": [
    "dd['Odometer'].unique()"
   ]
  },
  {
   "cell_type": "code",
   "execution_count": 404,
   "metadata": {},
   "outputs": [],
   "source": [
    "dd['Odometer'] = dd['Odometer'].str.replace(r'[^0-9]', '', regex=True).astype(int)"
   ]
  },
  {
   "cell_type": "code",
   "execution_count": null,
   "metadata": {},
   "outputs": [],
   "source": []
  }
 ],
 "metadata": {
  "kernelspec": {
   "display_name": "Python 3",
   "language": "python",
   "name": "python3"
  },
  "language_info": {
   "codemirror_mode": {
    "name": "ipython",
    "version": 3
   },
   "file_extension": ".py",
   "mimetype": "text/x-python",
   "name": "python",
   "nbconvert_exporter": "python",
   "pygments_lexer": "ipython3",
   "version": "3.12.4"
  }
 },
 "nbformat": 4,
 "nbformat_minor": 2
}
