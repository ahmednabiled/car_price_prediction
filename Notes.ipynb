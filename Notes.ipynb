{
 "cells": [
  {
   "cell_type": "code",
   "execution_count": null,
   "metadata": {},
   "outputs": [],
   "source": [
    "test_data = test_data.drop(columns=['ID'])\n",
    "test_data['Brand'] = test_data['Brand'].apply(clean_brand)\n",
    "test_data['Brand'] = test_data['Brand'].str.replace('სხვა','other')\n",
    "test_data['Brand'] = test_data['Brand'].str.replace('rover','land rover')\n",
    "test_data['Brand'] = test_data['Brand'].fillna('other')\n",
    "test_data['VehicleModel'] = test_data['VehicleModel'].apply(clean_model)\n",
    "test_data['VehicleModel'] = test_data['VehicleModel'].fillna('other')\n",
    "test_data['ManufacturingYear'] = test_data['ManufacturingYear'].str.replace(r'1-1-', '', regex=True)\n",
    "test_data['ManufacturingYear'] = test_data['ManufacturingYear'].str.replace(r'[^0-9]', '', regex=True)\n",
    "test_data['ManufacturingYear'] = test_data['ManufacturingYear'].apply(clean_Year)\n",
    "test_data['ManufacturingYear'] = test_data['ManufacturingYear'].astype('float')\n",
    "test_data['ManufacturingYear'] = test_data['ManufacturingYear'].apply(normalize_Year)\n",
    "test_data['ManufacturingYear'] = test_data['ManufacturingYear'].fillna(2010)\n",
    "test_data['Type']=test_data['Type'].str.lower()\n",
    "test_data['Type']=test_data['Type'].str.replace(r'[^a-z]', '', regex=True)\n",
    "test_data['Type'].unique()\n",
    "test_data['Type'] = test_data['Type'].apply(clean_type)\n",
    "test_data['Type'] = test_data['Type'].str.replace('swagon','goods wagon')\n",
    "test_data['Type'] = test_data['Type'].fillna(test_data['Type'].mode()[0])\n",
    "test_data['rating'] = test_data['rating'].fillna(test_data['rating'].median())\n",
    "test_data['color'] = test_data['color'].fillna(test_data['color'].mode()[0])\n",
    "test_data['Duty']=test_data['Duty'].str.replace(r'[^0-9]', '', regex=True)\n",
    "test_data['Duty'] = test_data['Duty'].apply(lambda x: '0' if x == '' else x)\n",
    "test_data['Duty']=test_data['Duty'].astype(int)\n",
    "test_data['fuel']=test_data['fuel'].str.replace('others','other')\n",
    "test_data['fuel']=test_data['fuel'].str.replace('hyb','Electric Hybrid')\n",
    "test_data['fuel'] = test_data['fuel'].fillna('other')\n",
    "test_data['CylinderCount'] = test_data['CylinderCount'].str.replace(r'[^0-9.]', '', regex=True)\n",
    "test_data['CylinderCount'] = test_data['CylinderCount'].astype(float).astype(int)\n",
    "test_data['type of gear'] = test_data['type of gear'].str.lower()\n",
    "test_data['type of gear'] = test_data['type of gear'].fillna('others')\n",
    "test_data['capacity'] = test_data['capacity'].str.replace(r'[^0-9.]', '', regex=True).astype(float)\n",
    "test_data['Odometer'] = test_data['Odometer'].str.replace(r'[^0-9]', '', regex=True).astype(int)\n",
    "test_data = test_data.drop(columns=['#airbags'])"
   ]
  },
  {
   "cell_type": "code",
   "execution_count": null,
   "metadata": {},
   "outputs": [],
   "source": [
    "test_data_t['Brand'] = test_data_t['Brand'].replace(test_data_t['Brand'].unique(),range(1,len(test_data_t['Brand'].unique())+1))\n",
    "test_data_t['VehicleModel'] = test_data_t['VehicleModel'].replace(test_data_t['VehicleModel'].unique(),range(1,len(test_data_t['VehicleModel'].unique())+1))\n",
    "test_data_t['Type'] = test_data_t['Type'].replace(test_data_t['Type'].unique(),range(1,len(test_data_t['Type'].unique())+1))\n",
    "test_data_t['color'] = test_data_t['color'].replace(test_data_t['color'].unique(),range(1,len(test_data_t['color'].unique())+1))\n",
    "test_data_t['fuel'] = test_data_t['fuel'].replace(test_data_t['fuel'].unique(),range(1,len(test_data_t['fuel'].unique())+1))\n",
    "test_data_t['type of gear'] = test_data_t['type of gear'].replace(test_data_t['type of gear'].unique(),range(1,len(test_data_t['type of gear'].unique())+1))"
   ]
  }
 ],
 "metadata": {
  "language_info": {
   "name": "python"
  }
 },
 "nbformat": 4,
 "nbformat_minor": 2
}
