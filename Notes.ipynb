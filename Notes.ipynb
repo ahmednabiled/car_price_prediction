{
 "cells": [
  {
   "cell_type": "markdown",
   "metadata": {},
   "source": [
    "\"I have the fastest model ever.. yes you got it right it's \",\n",
    "\"I own \",\n",
    "\"my model which is \"**\" is the best\",\n",
    "\".\","
   ]
  },
  {
   "cell_type": "code",
   "execution_count": null,
   "metadata": {},
   "outputs": [],
   "source": [
    "lst =['Brand', 'VehicleModel', 'ManufacturingYear', 'Type', 'rating', 'color',\n",
    "       'Duty', 'fuel', 'CylinderCount', 'type of gear', 'capacity', 'Odometer',\n",
    "       '#airbags', 'price']"
   ]
  },
  {
   "cell_type": "markdown",
   "metadata": {},
   "source": [
    "1-1-\n",
    "+\n",
    "\"\n",
    "*\n",
    ".\n",
    "#\n",
    "&\n",
    "}\n",
    "`\n",
    "@\n",
    "~\n",
    ">\n",
    "%\n",
    "_\n",
    "|\n",
    "[\n",
    "'\n",
    "!"
   ]
  },
  {
   "cell_type": "markdown",
   "metadata": {},
   "source": [
    "I had to pay a substantial \n",
    "$\n",
    " levy on my new car purchase.\n",
    "-\n",
    "$\n",
    "`\n",
    " pound\n",
    " We were surprised by the hefty \n",
    "  levy on imported cars.\n",
    "  ~"
   ]
  }
 ],
 "metadata": {
  "language_info": {
   "name": "python"
  }
 },
 "nbformat": 4,
 "nbformat_minor": 2
}
